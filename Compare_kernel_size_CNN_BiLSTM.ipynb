{
  "cells": [
    {
      "cell_type": "code",
      "source": [
        "from google.colab import drive\n",
        "drive.mount('/content/drive')"
      ],
      "metadata": {
        "id": "WO_3kYBmcV2X",
        "colab": {
          "base_uri": "https://localhost:8080/"
        },
        "outputId": "27fd982c-ecd9-4446-f012-c387e3bdb9aa"
      },
      "execution_count": null,
      "outputs": [
        {
          "output_type": "stream",
          "name": "stdout",
          "text": [
            "Mounted at /content/drive\n"
          ]
        }
      ]
    },
    {
      "cell_type": "markdown",
      "source": [
        "- [기상청 ASOS 5분 단위 데이터](https://data.kma.go.kr/data/grnd/selectAsosRltmList.do?pgmNo=36&tabNo=1)\n",
        "- [관측지점 메타 정보](https://data.kma.go.kr/tmeta/stn/selectStnList.do)\n",
        "- [공공데이터 포털: 공휴일](https://www.data.go.kr/data/15012690/openapi.do)\n",
        "- [한국전력 에너지마켓플레이스 OPEN API: 계약종별 전력사용량 API](https://bigdata.kepco.co.kr/cmsmain.do?scode=S01&pcode=000493&pstate=cntr&redirect=Y)\n",
        "  - [시도코드표](https://sgis.kostat.go.kr/developer/html/openApi/api/dataCode/SidoCode.html)"
      ],
      "metadata": {
        "id": "dg44L59JXosA"
      }
    },
    {
      "cell_type": "markdown",
      "source": [
        "# **CNN+Bi-LSTM: Kernel별 성능 비교**\n",
        "- 목표1 : 7개의 지역 가중 데이터를 활용해서 5분 단위 전력수요 예측하기\n",
        "- 목표2 : 최적의 Kernel_size 찾기\n",
        "- 칼럼 : 최저기온, 최고기온, 평균기온, 평균일사, 더미변수(요일, 휴일, 월, 시간)\n",
        "- 데이터크기 : 338111 rows × 60 columns\n",
        "- 모델종류 : Kernel_size=3,5,7인 CNN_Bi-LSTM\n",
        "\n",
        "- 절차\n",
        ">- 기상 데이터 수집\n",
        ">- 지점별 선형보간\n",
        ">- 더미변수 생성\n",
        ">- 지역별 가중치 구하기\n",
        ">- 가중평균 칼럼 생성\n",
        ">- 기상 대표값 도출\n",
        ">- 모델 학습\n",
        ">- 모델 비교\n",
        "\n",
        "|분류|사용변수|\n",
        "|---|---|\n",
        "|기준시점(1개)| 각 데이터의 기준 시점, 모델학습 미포함|\n",
        "|기상인자 (4개) | 최고기온, 최저기온, 가중평균기온, 가중평균일사량|\n",
        "|달력정보 (54개) | 요일특성(Dummy, 4개), 휴일유형 (Dummy, 14개), 월(Dummy, 12개), 시간(Dummy, 24개)|\n",
        "|전력수요 (1개)| 5분당 전력수요|"
      ],
      "metadata": {
        "id": "8qeeAF6_0IPr"
      }
    },
    {
      "cell_type": "markdown",
      "source": [
        "## A. **라이브러리 로드**\n",
        "- 대용량 파일을 다루기 위해서 `pd.read_parquet`를 사용\n",
        "- MAPE 계산을 위해 `torchmetrics` 라이브러리를 사용\n",
        "- 동일 결과를 얻기 위해 `seed=222`로 고정"
      ],
      "metadata": {
        "id": "ba1SYVKF0MES"
      }
    },
    {
      "cell_type": "code",
      "source": [
        "# 필요한 라이브러리 설치\n",
        "!pip install parquet\n",
        "!pip install torchmetrics -q"
      ],
      "metadata": {
        "id": "u1_bafe86CG8",
        "colab": {
          "base_uri": "https://localhost:8080/"
        },
        "outputId": "a197614b-795c-4c88-806c-6d937fd8a5c0"
      },
      "execution_count": null,
      "outputs": [
        {
          "output_type": "stream",
          "name": "stdout",
          "text": [
            "Looking in indexes: https://pypi.org/simple, https://us-python.pkg.dev/colab-wheels/public/simple/\n",
            "Collecting parquet\n",
            "  Downloading parquet-1.3.1-py3-none-any.whl (24 kB)\n",
            "Collecting thriftpy2 (from parquet)\n",
            "  Downloading thriftpy2-0.4.16.tar.gz (643 kB)\n",
            "\u001b[2K     \u001b[90m━━━━━━━━━━━━━━━━━━━━━━━━━━━━━━━━━━━━━━\u001b[0m \u001b[32m643.4/643.4 kB\u001b[0m \u001b[31m36.1 MB/s\u001b[0m eta \u001b[36m0:00:00\u001b[0m\n",
            "\u001b[?25h  Preparing metadata (setup.py) ... \u001b[?25l\u001b[?25hdone\n",
            "Collecting ply<4.0,>=3.4 (from thriftpy2->parquet)\n",
            "  Downloading ply-3.11-py2.py3-none-any.whl (49 kB)\n",
            "\u001b[2K     \u001b[90m━━━━━━━━━━━━━━━━━━━━━━━━━━━━━━━━━━━━━━━━\u001b[0m \u001b[32m49.6/49.6 kB\u001b[0m \u001b[31m8.0 MB/s\u001b[0m eta \u001b[36m0:00:00\u001b[0m\n",
            "\u001b[?25hRequirement already satisfied: six~=1.15 in /usr/local/lib/python3.10/dist-packages (from thriftpy2->parquet) (1.16.0)\n",
            "Building wheels for collected packages: thriftpy2\n",
            "  Building wheel for thriftpy2 (setup.py) ... \u001b[?25l\u001b[?25hdone\n",
            "  Created wheel for thriftpy2: filename=thriftpy2-0.4.16-cp310-cp310-linux_x86_64.whl size=1180276 sha256=98e99d45eb53c65d345abac4e4ef426655c6fee4ac15e8c00f2f5553438216fb\n",
            "  Stored in directory: /root/.cache/pip/wheels/95/f5/1d/fe404692e1c8aaea45220c322d1d0f32c9fd40eb0e2bdd571e\n",
            "Successfully built thriftpy2\n",
            "Installing collected packages: ply, thriftpy2, parquet\n",
            "Successfully installed parquet-1.3.1 ply-3.11 thriftpy2-0.4.16\n",
            "\u001b[2K     \u001b[90m━━━━━━━━━━━━━━━━━━━━━━━━━━━━━━━━━━━━━━\u001b[0m \u001b[32m519.2/519.2 kB\u001b[0m \u001b[31m22.9 MB/s\u001b[0m eta \u001b[36m0:00:00\u001b[0m\n",
            "\u001b[?25h"
          ]
        }
      ]
    },
    {
      "cell_type": "code",
      "source": [
        "# 라이브러리 로드\n",
        "import random\n",
        "import numpy as np\n",
        "import pandas as pd\n",
        "import datetime\n",
        "import requests\n",
        "import matplotlib.pyplot as plt\n",
        "import seaborn as sns\n",
        "from tqdm import tqdm\n",
        "from datetime import date, timedelta\n",
        "from dateutil.relativedelta import relativedelta\n",
        "\n",
        "import torch\n",
        "import torch.nn as nn\n",
        "from torchmetrics import MeanAbsolutePercentageError\n",
        "from torch.utils.data import Dataset, DataLoader, Subset\n",
        "from sklearn.preprocessing import MinMaxScaler\n",
        "\n",
        "# 랜덤시드 고정\n",
        "\n",
        "seed = 222\n",
        "deterministic = True\n",
        "\n",
        "random.seed(seed)\n",
        "np.random.seed(seed)\n",
        "torch.manual_seed(seed)\n",
        "torch.cuda.manual_seed_all(seed)"
      ],
      "metadata": {
        "id": "n1JP0_yDejIO"
      },
      "execution_count": null,
      "outputs": []
    },
    {
      "cell_type": "markdown",
      "source": [
        "## B. **데이터 전처리 및 로드**"
      ],
      "metadata": {
        "id": "Hb0P8Ocv0WA6"
      }
    },
    {
      "cell_type": "markdown",
      "source": [
        "### B-1. **기상데이터 불러오기**\n",
        "- 각 시를 기준으로 '서울', '부산', '인천', '대구', '대전', '광주', '원주'를 사용\n",
        "  - '세종', '울산'의 결측값이 많으므로 제외\n",
        "  - 강원도 부근의 기상 정보를 포함하기 위해 대표지역으로 인구수가 많은 '원주'를 선택\n",
        "- 각 지점별로 기온 선형보간\n",
        "- 가중치 적용 전 최저, 최고 기온 도출\n",
        "- 가중치 적용 후 가중평균 기온과 일사 도출\n",
        "- 더미변수 생성(요일, 휴일, 월, 시간)"
      ],
      "metadata": {
        "id": "uP2ehqQX0XiT"
      }
    },
    {
      "cell_type": "code",
      "execution_count": null,
      "metadata": {
        "id": "pgEc7cGI9j35"
      },
      "outputs": [],
      "source": [
        "def weather_data_5minute(weather_metadata_path, weather_5minute_ASOS_path, holiday_path, region_weigths_dict):\n",
        "  ################################################ 기상 데이터 불러오기 ##############################################\n",
        "  \n",
        "  # 기상관측 MetaData 불러오기\n",
        "  weather_metadata = pd.read_csv(weather_metadata_path)\n",
        "  STN_dict = {STN_name : STN_num for STN_num, STN_name in zip(weather_metadata['지점'], weather_metadata['지점명'])}\n",
        "  target_STN_list = [STN_dict[STN_name] for STN_name in ['서울', '부산', '인천', '대구', '대전', '광주', '원주']]\n",
        "\n",
        "  # 서울 포함 7개 도시의 기온 및 일사량 데이터 불러오기\n",
        "  weather_5minute = pd.read_parquet(weather_5minute_ASOS_path).astype({'지점' : 'int'})\n",
        "  weather_5minute = weather_5minute[weather_5minute['지점'].isin(target_STN_list)]\n",
        "  weather_5minute = weather_5minute[['지점', '일시', '기온(°C)', '일사(MJ/m^2)']]\n",
        "  weather_5minute.columns = ['지점', '일시', '기온', '일사']\n",
        "\n",
        "  ################################################ 데이터 선형보간 ###################################################\n",
        "    \n",
        "  column_list = ['기온', '일사']\n",
        "\n",
        "  # 선형보간법 사용하여 결측값 채우기\n",
        "  for idx, STN in enumerate(target_STN_list):\n",
        "\n",
        "      # 각 STN별로 데이터 나누기\n",
        "      tmp = weather_5minute[weather_5minute['지점'] == STN]\n",
        "\n",
        "      # 시간순으로 정렬하기\n",
        "      tmp = tmp.sort_values(by='일시')\n",
        "\n",
        "      # 선형보간법을 사용하여 nan값 채우기                \n",
        "      for column in column_list:\n",
        "          tmp[column] = tmp[column].interpolate(method='linear')\n",
        "\n",
        "      # tmp 합치기\n",
        "      if idx == 0:\n",
        "          interpolated_weather = tmp\n",
        "      else:\n",
        "          interpolated_weather = pd.concat([interpolated_weather, tmp])\n",
        "  \n",
        "  interpolated_weather = interpolated_weather[interpolated_weather['일시']<\"2023-03-20\"]    # 기간 조정\n",
        "\n",
        "  ################################################ 가중 평균 ###################################################\n",
        "  \n",
        "  df = interpolated_weather.copy()\n",
        "\n",
        "  # 메타정보로 시도 칼럼 생성\n",
        "  def get_loc_info(data):\n",
        "      try:\n",
        "          return stn_replace_dict[data]\n",
        "      except:\n",
        "          return 'No Info'\n",
        "\n",
        "  weather_metadata[\"시도\"] = weather_metadata[\"지점주소\"].str.split().str[0]\n",
        "  stn_replace_dict = dict((weather_metadata[['지점', '시도']].values.tolist()))\n",
        "\n",
        "  df['시도'] = df['지점'].apply(get_loc_info)\n",
        "\n",
        "  # 가중평균 데이터\n",
        "  df[\"Year-Region\"] = df[\"일시\"].str[:8] + df[\"시도\"]\n",
        "  df[\"Year-Region\"] = df[\"Year-Region\"].apply(lambda x: region_weigths_dict[x])\n",
        "  for col in ['기온', '일사']:\n",
        "      df[col] *= df[\"Year-Region\"]\n",
        "  weighted = df.groupby([\"일시\"], as_index=False)[['기온', '일사']].sum()\n",
        "  weighted.columns = ['datetime', 'temp', 'insolation']\n",
        "        \n",
        "  ################################################ 최고, 최저 기온 ###################################################\n",
        "\n",
        "  # 최고 기온\n",
        "  tmp_1 = pd.DataFrame(interpolated_weather.groupby('일시', as_index = False)['기온'].max()).rename(columns = {'기온' : 'max_temp'})\n",
        "  # 최저 기온\n",
        "  tmp_2 = pd.DataFrame(interpolated_weather.groupby('일시', as_index = False)['기온'].min()).rename(columns = {'기온' : 'min_temp'})\n",
        "  representative_weather = pd.merge(tmp_1, tmp_2, on = '일시', how = 'inner')\n",
        "  representative_weather.rename(columns = {'일시' : 'datetime'}, inplace= True)\n",
        "\n",
        "  ################################################ 더미 변수 ###################################################\n",
        "  \n",
        "  # 요일 특성 반영 (더미변수로 반영)\n",
        "  # 0 : 월요일, 1 : 화요일 ~ 금요일, 2 : 토요일, 3 : 일요일\n",
        "\n",
        "  representative_weather['weekday'] = pd.to_datetime(representative_weather['datetime']).dt.weekday\n",
        "  representative_weather.replace({'weekday' : {2 : 1, 3 : 1, 4 : 1, 5 : 2, 6 : 3}}, inplace = True)\n",
        "  representative_weather = pd.get_dummies(representative_weather, columns = ['weekday'])\n",
        "                                          \n",
        "  # 휴일 유형에 맞춘 더미변수 반영\n",
        "\n",
        "  holiday = pd.read_csv(holiday_path)\n",
        "\n",
        "  for dateName in ['국회의원선거일', '대통령선거일', '동시지방선거일', '전국동시지방선거', '제21대 국회의원선거']:\n",
        "      holiday.replace({'dateName' : {dateName : '선거일'}}, inplace = True)\n",
        "  holiday.replace({'dateName' : {'1월1일' : '신정'}}, inplace = True)\n",
        "  holiday.replace({'dateName' : {'부처님오신날' : '석가탄신일'}}, inplace = True)\n",
        "  holiday.replace({'dateName' : {'어린이 날' : '어린이날'}}, inplace = True)\n",
        "  holiday.replace({'dateName' : {'대체휴무일' : '대체공휴일'}}, inplace = True)\n",
        "  holiday.replace({'dateName' : {'임시공휴일' : '대체공휴일'}}, inplace = True)\n",
        "\n",
        "  nameToNumber = {dateName : idx + 1  for idx, dateName in enumerate(list(holiday['dateName'].unique()))}\n",
        "  holiday.replace({'dateName' : nameToNumber}, inplace = True)\n",
        "  holiday_dict = {locdate : dateName for dateName, locdate in zip(holiday['dateName'], holiday['locdate'])}\n",
        "\n",
        "  for row_number in range(representative_weather.shape[0]):\n",
        "      if representative_weather.at[row_number, 'datetime'][:-6] in list(holiday['locdate']):\n",
        "          representative_weather.at[row_number, 'holiday'] = holiday_dict[representative_weather.at[row_number, 'datetime'][:-6]]\n",
        "      else:\n",
        "          representative_weather.at[row_number, 'holiday'] = 0\n",
        "\n",
        "  representative_weather = pd.get_dummies(representative_weather, columns = ['holiday'])\n",
        "\n",
        "  # 월, 시간 정보 반영 (더미변수로 반영)\n",
        "\n",
        "  representative_weather['month'] = pd.to_datetime(representative_weather['datetime']).dt.month\n",
        "  representative_weather = pd.get_dummies(representative_weather, columns = ['month'])\n",
        "  representative_weather['hour'] = pd.to_datetime(representative_weather['datetime']).dt.hour\n",
        "  representative_weather = pd.get_dummies(representative_weather, columns = ['hour'])\n",
        "\n",
        "  return pd.merge(weighted, representative_weather, on='datetime', how='inner')"
      ]
    },
    {
      "cell_type": "markdown",
      "source": [
        "### B-2. **지역 가중치 구하기**\n",
        "- [한전API](https://bigdata.kepco.co.kr/cmsmain.do?scode=S01&pcode=000493&pstate=cntr&redirect=Y)로부터 각 지역별로 월별 전력 가중치를 도출\n",
        "  - '원주'는 강원도 데이터를 사용"
      ],
      "metadata": {
        "id": "4kEYd8Ww0bya"
      }
    },
    {
      "cell_type": "code",
      "source": [
        "# API에서 지역정보 가져오기\n",
        "def get_region_weights(load=False, api_key=None, start_date=str, end_date=str, save_path=None):\n",
        "  '''\n",
        "  start_date = \"Year-Month\", ex. \"2020-01\"\n",
        "  end_date = \"Year-Month\", ex. \"2023-03\"\n",
        "  '''\n",
        "  ################################################ API 데이터 수집 ###################################################\n",
        "  if not load:    # 파일을 읽어오지 않는다면 API로부터 데이터 수집\n",
        "      # 시도 코드\n",
        "      metro_code_list = [11, 21, 22, 23, 24, 25, 32]  # 원주 대신 강원도 사용\n",
        "      \n",
        "      # 날짜별로 데이터 수집\n",
        "      start_date = datetime.datetime.strptime(start_date, '%Y-%m')\n",
        "      end_date = datetime.datetime.strptime(end_date, '%Y-%m') + relativedelta(months=1)\n",
        "      tmp_list = []\n",
        "      for _ in tqdm(pd.date_range(start_date, end_date, freq=\"m\")):\n",
        "          \n",
        "          # 연/월 분리\n",
        "          year = str(start_date.year)\n",
        "          month = \"{:>02}\".format(str(start_date.month))\n",
        "          \n",
        "          # Open API로 부터 데이터 로드\n",
        "          for i in metro_code_list:\n",
        "              url = f'https://bigdata.kepco.co.kr/openapi/v1/powerUsage/houseAve.do?year={year}&month={month}&metroCd={i}&cityCd=&apiKey={api_key}&returnType=json'\n",
        "\n",
        "              response = requests.get(url)\n",
        "              json = response.json()\n",
        "              \n",
        "              # 데이터 수집 시도\n",
        "              try:\n",
        "                  for dic in json['data']:\n",
        "                      tmp_list.append(dic)    # 데이터가 있다면 저장\n",
        "              except:\n",
        "                  continue    # 데이터가 없다면 작업없음\n",
        "              \n",
        "          start_date += relativedelta(months=1) # 월 정보 증가\n",
        "\n",
        "      # API 데이터에서 연-월 정보 수집\n",
        "      power_demand_house_metro = pd.DataFrame(tmp_list)\n",
        "      power_demand_region_df = pd.DataFrame(tmp_list).groupby([\"year\", \"month\", \"metro\"], as_index=False)[[\"powerUsage\"]].sum()\n",
        "      \n",
        "      # 저장\n",
        "      if save_path is not None:\n",
        "          power_demand_region_df.to_pickle(save_path)\n",
        "\n",
        "  else:   # 경로에 파일이 있다면 읽어옵니다\n",
        "      power_demand_region_df = pd.read_pickle(save_path)\n",
        "  \n",
        "  ################################################ 딕셔너리 생성 ###################################################\n",
        "  \n",
        "  # 연-월별로 비율 계산\n",
        "  power_demand_region_df['y-m'] = power_demand_region_df['year'] + '-' + power_demand_region_df['month']\n",
        "  y_m_sum = power_demand_region_df.groupby([\"y-m\"], as_index=False)[\"powerUsage\"].sum()   # 연-월 전력 총 사용량 계산\n",
        "  y_m_sum_dict = dict(y_m_sum.values.tolist())                                            # 연-월 전력 총 사용량 딕셔너리\n",
        "  power_demand_region_df['y-m'] = power_demand_region_df['y-m'].apply(lambda x: y_m_sum_dict[x])  # 전력 총 사용량 칼럼에 반영\n",
        "  power_demand_region_df[\"powerUsage\"] /= power_demand_region_df[\"y-m\"]                   # 전력 총 사용량으로 나눠서 비율 구하기\n",
        "  power_demand_region_df[\"date_region\"] = power_demand_region_df['year'] + '-' + power_demand_region_df['month'] + '-' + power_demand_region_df[\"metro\"]  # 연-월-시도 딕셔너리 키 준비\n",
        "  region_weigths_dict = dict(power_demand_region_df[[\"date_region\", \"powerUsage\"]].values.tolist())   # 연-월-시도 딕셔너리 생성\n",
        "  \n",
        "  return region_weigths_dict"
      ],
      "metadata": {
        "id": "bQwPeki7Ok_9"
      },
      "execution_count": null,
      "outputs": []
    },
    {
      "cell_type": "markdown",
      "source": [
        "### B-3. **기상대표값 데이터 생성**\n",
        "- 지역 가중치 적용된 기상 데이터 가져오기\n",
        "- 전력(라벨) 데이터 추가하기"
      ],
      "metadata": {
        "id": "Uma8ixPv0eTS"
      }
    },
    {
      "cell_type": "code",
      "execution_count": null,
      "metadata": {
        "id": "0-x7VBwELdPq",
        "colab": {
          "base_uri": "https://localhost:8080/",
          "height": 661
        },
        "outputId": "c3eae465-d3c5-4269-885d-2fa3515cfa79"
      },
      "outputs": [
        {
          "output_type": "execute_result",
          "data": {
            "text/plain": [
              "                datetime      temp  insolation  max_temp  min_temp  weekday_0  \\\n",
              "0       2020-01-01 00:05 -5.430015    0.000000      -2.5      -7.6          0   \n",
              "1       2020-01-01 00:10 -5.442777    0.000000      -2.6      -7.6          0   \n",
              "2       2020-01-01 00:15 -5.458356    0.000601      -2.5      -7.6          0   \n",
              "3       2020-01-01 00:20 -5.447638    0.000601      -2.6      -7.6          0   \n",
              "4       2020-01-01 00:25 -5.419021    0.001201      -2.6      -7.7          0   \n",
              "...                  ...       ...         ...       ...       ...        ...   \n",
              "338106  2023-03-19 23:35  6.790464   21.504471      10.4       1.9          0   \n",
              "338107  2023-03-19 23:40  6.746992   21.505070      10.4       1.9          0   \n",
              "338108  2023-03-19 23:45  6.692631   21.505070      10.4       1.8          0   \n",
              "338109  2023-03-19 23:50  6.631788   21.505670      10.4       1.8          0   \n",
              "338110  2023-03-19 23:55  6.601074   21.505670      10.4       1.8          0   \n",
              "\n",
              "        weekday_1  weekday_2  weekday_3  holiday_0.0  ...  hour_15  hour_16  \\\n",
              "0               1          0          0            0  ...        0        0   \n",
              "1               1          0          0            0  ...        0        0   \n",
              "2               1          0          0            0  ...        0        0   \n",
              "3               1          0          0            0  ...        0        0   \n",
              "4               1          0          0            0  ...        0        0   \n",
              "...           ...        ...        ...          ...  ...      ...      ...   \n",
              "338106          0          0          1            1  ...        0        0   \n",
              "338107          0          0          1            1  ...        0        0   \n",
              "338108          0          0          1            1  ...        0        0   \n",
              "338109          0          0          1            1  ...        0        0   \n",
              "338110          0          0          1            1  ...        0        0   \n",
              "\n",
              "        hour_17  hour_18  hour_19  hour_20  hour_21  hour_22  hour_23     load  \n",
              "0             0        0        0        0        0        0        0  65295.7  \n",
              "1             0        0        0        0        0        0        0  65098.7  \n",
              "2             0        0        0        0        0        0        0  64927.2  \n",
              "3             0        0        0        0        0        0        0  64480.8  \n",
              "4             0        0        0        0        0        0        0  64438.3  \n",
              "...         ...      ...      ...      ...      ...      ...      ...      ...  \n",
              "338106        0        0        0        0        0        0        1  58627.2  \n",
              "338107        0        0        0        0        0        0        1  57941.2  \n",
              "338108        0        0        0        0        0        0        1  57726.2  \n",
              "338109        0        0        0        0        0        0        1  57755.4  \n",
              "338110        0        0        0        0        0        0        1  57323.8  \n",
              "\n",
              "[338111 rows x 60 columns]"
            ],
            "text/html": [
              "\n",
              "  <div id=\"df-a8bd63ea-926f-4823-b048-402f78d50837\">\n",
              "    <div class=\"colab-df-container\">\n",
              "      <div>\n",
              "<style scoped>\n",
              "    .dataframe tbody tr th:only-of-type {\n",
              "        vertical-align: middle;\n",
              "    }\n",
              "\n",
              "    .dataframe tbody tr th {\n",
              "        vertical-align: top;\n",
              "    }\n",
              "\n",
              "    .dataframe thead th {\n",
              "        text-align: right;\n",
              "    }\n",
              "</style>\n",
              "<table border=\"1\" class=\"dataframe\">\n",
              "  <thead>\n",
              "    <tr style=\"text-align: right;\">\n",
              "      <th></th>\n",
              "      <th>datetime</th>\n",
              "      <th>temp</th>\n",
              "      <th>insolation</th>\n",
              "      <th>max_temp</th>\n",
              "      <th>min_temp</th>\n",
              "      <th>weekday_0</th>\n",
              "      <th>weekday_1</th>\n",
              "      <th>weekday_2</th>\n",
              "      <th>weekday_3</th>\n",
              "      <th>holiday_0.0</th>\n",
              "      <th>...</th>\n",
              "      <th>hour_15</th>\n",
              "      <th>hour_16</th>\n",
              "      <th>hour_17</th>\n",
              "      <th>hour_18</th>\n",
              "      <th>hour_19</th>\n",
              "      <th>hour_20</th>\n",
              "      <th>hour_21</th>\n",
              "      <th>hour_22</th>\n",
              "      <th>hour_23</th>\n",
              "      <th>load</th>\n",
              "    </tr>\n",
              "  </thead>\n",
              "  <tbody>\n",
              "    <tr>\n",
              "      <th>0</th>\n",
              "      <td>2020-01-01 00:05</td>\n",
              "      <td>-5.430015</td>\n",
              "      <td>0.000000</td>\n",
              "      <td>-2.5</td>\n",
              "      <td>-7.6</td>\n",
              "      <td>0</td>\n",
              "      <td>1</td>\n",
              "      <td>0</td>\n",
              "      <td>0</td>\n",
              "      <td>0</td>\n",
              "      <td>...</td>\n",
              "      <td>0</td>\n",
              "      <td>0</td>\n",
              "      <td>0</td>\n",
              "      <td>0</td>\n",
              "      <td>0</td>\n",
              "      <td>0</td>\n",
              "      <td>0</td>\n",
              "      <td>0</td>\n",
              "      <td>0</td>\n",
              "      <td>65295.7</td>\n",
              "    </tr>\n",
              "    <tr>\n",
              "      <th>1</th>\n",
              "      <td>2020-01-01 00:10</td>\n",
              "      <td>-5.442777</td>\n",
              "      <td>0.000000</td>\n",
              "      <td>-2.6</td>\n",
              "      <td>-7.6</td>\n",
              "      <td>0</td>\n",
              "      <td>1</td>\n",
              "      <td>0</td>\n",
              "      <td>0</td>\n",
              "      <td>0</td>\n",
              "      <td>...</td>\n",
              "      <td>0</td>\n",
              "      <td>0</td>\n",
              "      <td>0</td>\n",
              "      <td>0</td>\n",
              "      <td>0</td>\n",
              "      <td>0</td>\n",
              "      <td>0</td>\n",
              "      <td>0</td>\n",
              "      <td>0</td>\n",
              "      <td>65098.7</td>\n",
              "    </tr>\n",
              "    <tr>\n",
              "      <th>2</th>\n",
              "      <td>2020-01-01 00:15</td>\n",
              "      <td>-5.458356</td>\n",
              "      <td>0.000601</td>\n",
              "      <td>-2.5</td>\n",
              "      <td>-7.6</td>\n",
              "      <td>0</td>\n",
              "      <td>1</td>\n",
              "      <td>0</td>\n",
              "      <td>0</td>\n",
              "      <td>0</td>\n",
              "      <td>...</td>\n",
              "      <td>0</td>\n",
              "      <td>0</td>\n",
              "      <td>0</td>\n",
              "      <td>0</td>\n",
              "      <td>0</td>\n",
              "      <td>0</td>\n",
              "      <td>0</td>\n",
              "      <td>0</td>\n",
              "      <td>0</td>\n",
              "      <td>64927.2</td>\n",
              "    </tr>\n",
              "    <tr>\n",
              "      <th>3</th>\n",
              "      <td>2020-01-01 00:20</td>\n",
              "      <td>-5.447638</td>\n",
              "      <td>0.000601</td>\n",
              "      <td>-2.6</td>\n",
              "      <td>-7.6</td>\n",
              "      <td>0</td>\n",
              "      <td>1</td>\n",
              "      <td>0</td>\n",
              "      <td>0</td>\n",
              "      <td>0</td>\n",
              "      <td>...</td>\n",
              "      <td>0</td>\n",
              "      <td>0</td>\n",
              "      <td>0</td>\n",
              "      <td>0</td>\n",
              "      <td>0</td>\n",
              "      <td>0</td>\n",
              "      <td>0</td>\n",
              "      <td>0</td>\n",
              "      <td>0</td>\n",
              "      <td>64480.8</td>\n",
              "    </tr>\n",
              "    <tr>\n",
              "      <th>4</th>\n",
              "      <td>2020-01-01 00:25</td>\n",
              "      <td>-5.419021</td>\n",
              "      <td>0.001201</td>\n",
              "      <td>-2.6</td>\n",
              "      <td>-7.7</td>\n",
              "      <td>0</td>\n",
              "      <td>1</td>\n",
              "      <td>0</td>\n",
              "      <td>0</td>\n",
              "      <td>0</td>\n",
              "      <td>...</td>\n",
              "      <td>0</td>\n",
              "      <td>0</td>\n",
              "      <td>0</td>\n",
              "      <td>0</td>\n",
              "      <td>0</td>\n",
              "      <td>0</td>\n",
              "      <td>0</td>\n",
              "      <td>0</td>\n",
              "      <td>0</td>\n",
              "      <td>64438.3</td>\n",
              "    </tr>\n",
              "    <tr>\n",
              "      <th>...</th>\n",
              "      <td>...</td>\n",
              "      <td>...</td>\n",
              "      <td>...</td>\n",
              "      <td>...</td>\n",
              "      <td>...</td>\n",
              "      <td>...</td>\n",
              "      <td>...</td>\n",
              "      <td>...</td>\n",
              "      <td>...</td>\n",
              "      <td>...</td>\n",
              "      <td>...</td>\n",
              "      <td>...</td>\n",
              "      <td>...</td>\n",
              "      <td>...</td>\n",
              "      <td>...</td>\n",
              "      <td>...</td>\n",
              "      <td>...</td>\n",
              "      <td>...</td>\n",
              "      <td>...</td>\n",
              "      <td>...</td>\n",
              "      <td>...</td>\n",
              "    </tr>\n",
              "    <tr>\n",
              "      <th>338106</th>\n",
              "      <td>2023-03-19 23:35</td>\n",
              "      <td>6.790464</td>\n",
              "      <td>21.504471</td>\n",
              "      <td>10.4</td>\n",
              "      <td>1.9</td>\n",
              "      <td>0</td>\n",
              "      <td>0</td>\n",
              "      <td>0</td>\n",
              "      <td>1</td>\n",
              "      <td>1</td>\n",
              "      <td>...</td>\n",
              "      <td>0</td>\n",
              "      <td>0</td>\n",
              "      <td>0</td>\n",
              "      <td>0</td>\n",
              "      <td>0</td>\n",
              "      <td>0</td>\n",
              "      <td>0</td>\n",
              "      <td>0</td>\n",
              "      <td>1</td>\n",
              "      <td>58627.2</td>\n",
              "    </tr>\n",
              "    <tr>\n",
              "      <th>338107</th>\n",
              "      <td>2023-03-19 23:40</td>\n",
              "      <td>6.746992</td>\n",
              "      <td>21.505070</td>\n",
              "      <td>10.4</td>\n",
              "      <td>1.9</td>\n",
              "      <td>0</td>\n",
              "      <td>0</td>\n",
              "      <td>0</td>\n",
              "      <td>1</td>\n",
              "      <td>1</td>\n",
              "      <td>...</td>\n",
              "      <td>0</td>\n",
              "      <td>0</td>\n",
              "      <td>0</td>\n",
              "      <td>0</td>\n",
              "      <td>0</td>\n",
              "      <td>0</td>\n",
              "      <td>0</td>\n",
              "      <td>0</td>\n",
              "      <td>1</td>\n",
              "      <td>57941.2</td>\n",
              "    </tr>\n",
              "    <tr>\n",
              "      <th>338108</th>\n",
              "      <td>2023-03-19 23:45</td>\n",
              "      <td>6.692631</td>\n",
              "      <td>21.505070</td>\n",
              "      <td>10.4</td>\n",
              "      <td>1.8</td>\n",
              "      <td>0</td>\n",
              "      <td>0</td>\n",
              "      <td>0</td>\n",
              "      <td>1</td>\n",
              "      <td>1</td>\n",
              "      <td>...</td>\n",
              "      <td>0</td>\n",
              "      <td>0</td>\n",
              "      <td>0</td>\n",
              "      <td>0</td>\n",
              "      <td>0</td>\n",
              "      <td>0</td>\n",
              "      <td>0</td>\n",
              "      <td>0</td>\n",
              "      <td>1</td>\n",
              "      <td>57726.2</td>\n",
              "    </tr>\n",
              "    <tr>\n",
              "      <th>338109</th>\n",
              "      <td>2023-03-19 23:50</td>\n",
              "      <td>6.631788</td>\n",
              "      <td>21.505670</td>\n",
              "      <td>10.4</td>\n",
              "      <td>1.8</td>\n",
              "      <td>0</td>\n",
              "      <td>0</td>\n",
              "      <td>0</td>\n",
              "      <td>1</td>\n",
              "      <td>1</td>\n",
              "      <td>...</td>\n",
              "      <td>0</td>\n",
              "      <td>0</td>\n",
              "      <td>0</td>\n",
              "      <td>0</td>\n",
              "      <td>0</td>\n",
              "      <td>0</td>\n",
              "      <td>0</td>\n",
              "      <td>0</td>\n",
              "      <td>1</td>\n",
              "      <td>57755.4</td>\n",
              "    </tr>\n",
              "    <tr>\n",
              "      <th>338110</th>\n",
              "      <td>2023-03-19 23:55</td>\n",
              "      <td>6.601074</td>\n",
              "      <td>21.505670</td>\n",
              "      <td>10.4</td>\n",
              "      <td>1.8</td>\n",
              "      <td>0</td>\n",
              "      <td>0</td>\n",
              "      <td>0</td>\n",
              "      <td>1</td>\n",
              "      <td>1</td>\n",
              "      <td>...</td>\n",
              "      <td>0</td>\n",
              "      <td>0</td>\n",
              "      <td>0</td>\n",
              "      <td>0</td>\n",
              "      <td>0</td>\n",
              "      <td>0</td>\n",
              "      <td>0</td>\n",
              "      <td>0</td>\n",
              "      <td>1</td>\n",
              "      <td>57323.8</td>\n",
              "    </tr>\n",
              "  </tbody>\n",
              "</table>\n",
              "<p>338111 rows × 60 columns</p>\n",
              "</div>\n",
              "      <button class=\"colab-df-convert\" onclick=\"convertToInteractive('df-a8bd63ea-926f-4823-b048-402f78d50837')\"\n",
              "              title=\"Convert this dataframe to an interactive table.\"\n",
              "              style=\"display:none;\">\n",
              "        \n",
              "  <svg xmlns=\"http://www.w3.org/2000/svg\" height=\"24px\"viewBox=\"0 0 24 24\"\n",
              "       width=\"24px\">\n",
              "    <path d=\"M0 0h24v24H0V0z\" fill=\"none\"/>\n",
              "    <path d=\"M18.56 5.44l.94 2.06.94-2.06 2.06-.94-2.06-.94-.94-2.06-.94 2.06-2.06.94zm-11 1L8.5 8.5l.94-2.06 2.06-.94-2.06-.94L8.5 2.5l-.94 2.06-2.06.94zm10 10l.94 2.06.94-2.06 2.06-.94-2.06-.94-.94-2.06-.94 2.06-2.06.94z\"/><path d=\"M17.41 7.96l-1.37-1.37c-.4-.4-.92-.59-1.43-.59-.52 0-1.04.2-1.43.59L10.3 9.45l-7.72 7.72c-.78.78-.78 2.05 0 2.83L4 21.41c.39.39.9.59 1.41.59.51 0 1.02-.2 1.41-.59l7.78-7.78 2.81-2.81c.8-.78.8-2.07 0-2.86zM5.41 20L4 18.59l7.72-7.72 1.47 1.35L5.41 20z\"/>\n",
              "  </svg>\n",
              "      </button>\n",
              "      \n",
              "  <style>\n",
              "    .colab-df-container {\n",
              "      display:flex;\n",
              "      flex-wrap:wrap;\n",
              "      gap: 12px;\n",
              "    }\n",
              "\n",
              "    .colab-df-convert {\n",
              "      background-color: #E8F0FE;\n",
              "      border: none;\n",
              "      border-radius: 50%;\n",
              "      cursor: pointer;\n",
              "      display: none;\n",
              "      fill: #1967D2;\n",
              "      height: 32px;\n",
              "      padding: 0 0 0 0;\n",
              "      width: 32px;\n",
              "    }\n",
              "\n",
              "    .colab-df-convert:hover {\n",
              "      background-color: #E2EBFA;\n",
              "      box-shadow: 0px 1px 2px rgba(60, 64, 67, 0.3), 0px 1px 3px 1px rgba(60, 64, 67, 0.15);\n",
              "      fill: #174EA6;\n",
              "    }\n",
              "\n",
              "    [theme=dark] .colab-df-convert {\n",
              "      background-color: #3B4455;\n",
              "      fill: #D2E3FC;\n",
              "    }\n",
              "\n",
              "    [theme=dark] .colab-df-convert:hover {\n",
              "      background-color: #434B5C;\n",
              "      box-shadow: 0px 1px 3px 1px rgba(0, 0, 0, 0.15);\n",
              "      filter: drop-shadow(0px 1px 2px rgba(0, 0, 0, 0.3));\n",
              "      fill: #FFFFFF;\n",
              "    }\n",
              "  </style>\n",
              "\n",
              "      <script>\n",
              "        const buttonEl =\n",
              "          document.querySelector('#df-a8bd63ea-926f-4823-b048-402f78d50837 button.colab-df-convert');\n",
              "        buttonEl.style.display =\n",
              "          google.colab.kernel.accessAllowed ? 'block' : 'none';\n",
              "\n",
              "        async function convertToInteractive(key) {\n",
              "          const element = document.querySelector('#df-a8bd63ea-926f-4823-b048-402f78d50837');\n",
              "          const dataTable =\n",
              "            await google.colab.kernel.invokeFunction('convertToInteractive',\n",
              "                                                     [key], {});\n",
              "          if (!dataTable) return;\n",
              "\n",
              "          const docLinkHtml = 'Like what you see? Visit the ' +\n",
              "            '<a target=\"_blank\" href=https://colab.research.google.com/notebooks/data_table.ipynb>data table notebook</a>'\n",
              "            + ' to learn more about interactive tables.';\n",
              "          element.innerHTML = '';\n",
              "          dataTable['output_type'] = 'display_data';\n",
              "          await google.colab.output.renderOutput(dataTable, element);\n",
              "          const docLink = document.createElement('div');\n",
              "          docLink.innerHTML = docLinkHtml;\n",
              "          element.appendChild(docLink);\n",
              "        }\n",
              "      </script>\n",
              "    </div>\n",
              "  </div>\n",
              "  "
            ]
          },
          "metadata": {},
          "execution_count": 9
        }
      ],
      "source": [
        "############################################ 지역 가중치 얻기 ####################################################################\n",
        "\n",
        "api_key = '85Go6o3gCfJTsZ3226WAW0NnO36gh9Nb8Kd1QZpp'  # 개인 API_KEY\n",
        "\n",
        "start_date = \"2020-01\"\n",
        "end_date = \"2023-03\"\n",
        "save_path = f\"/content/drive/MyDrive/DL Project/data/processed/region_weights_{start_date}_{end_date}_v2.pickle\"\n",
        "\n",
        "# 서울, 부산, 대구, 인천, 광주, 대전, 원주(강원도)\n",
        "# load=False면 API로부터 데이터를 가져옵니다\n",
        "# load=True면 경로로부터 가중치 파일을 읽어옵니다\n",
        "region_weigths_dict = get_region_weights(load=True, api_key=api_key, start_date=start_date, end_date=end_date, save_path=save_path)\n",
        "\n",
        "############################################ 기상대표값 데이터 생성하기 ############################################################\n",
        "\n",
        "weather_metadata_path = '/content/drive/MyDrive/DL Project/data/processed/weather_localcenter_metadata.csv'\n",
        "weather_5minute_ASOS_path = '/content/drive/MyDrive/DL Project/data/processed/weather_5minute_ASOS_2020-2023.parquet'\n",
        "holiday_path = '/content/drive/MyDrive/DL Project/data/processed/holidays.csv'\n",
        "\n",
        "representative_weather = weather_data_5minute(weather_metadata_path, weather_5minute_ASOS_path, holiday_path, region_weigths_dict)\n",
        "\n",
        "############################################ 전력 데이터 불러오기 ################################################################\n",
        "\n",
        "power_path = '/content/drive/MyDrive/DL Project/data/processed/power_demand_interpolated.csv'\n",
        "\n",
        "power = pd.read_csv(power_path)\n",
        "power.columns = ['datetime', 'load']\n",
        "\n",
        "###################################### 전력 데이터와 기상인자 데이터 합치기 #######################################################\n",
        "\n",
        "target_df = pd.merge(representative_weather, power, on = 'datetime', how = 'inner')\n",
        "target_df"
      ]
    },
    {
      "cell_type": "markdown",
      "source": [
        "## C. **모델 - 1D CNN + 양방향 LSTM**\n",
        "* LSTM Layer의 개수 : 2개 (양방향 LSTM Layer)\n",
        "* Input Dimension(사용한 컬럼의 개수) : 59개\n",
        "* output Dimension(1회 출력갯수) : 72개\n",
        "* 총 출력갯수 : 2016(23년 3월 13일 ~ 3월 19일 5분 단위 데이터)\n",
        "\n",
        "* 학습시간 : 약 4시간 41분 (53분, 175분, 53분)\n",
        "* Train, Test 데이터를 미리 분리한 후, Train 데이터셋에만 Scaler를 Fit-Transform하여 학습하고 테스트 시에 Scaler로 Transform만 진행하여 Test 진행\n",
        "* **TEST_MAPE**\n",
        "  * **Kernel size 3 : 3.764%**\n",
        "  * **Kernel size 5 : 2.873%**\n",
        "  * **Kernel size 7 : 3.611%**"
      ],
      "metadata": {
        "id": "Mwe7wBdJ1ILq"
      }
    },
    {
      "cell_type": "markdown",
      "source": [
        "### C-1. **커스텀 데이터셋**\n",
        "- 메모리 문제를 완화하기 위해 커스텀 데이터셋 구축\n",
        "- 훈련용 데이터셋: fit_transform 적용\n",
        "- 평가용 데이터셋: transform 적용\n",
        "- Scaler : MinMaxScaler\n",
        "- seq_len = 2016\n",
        "- step_len = 72\n",
        "- stride = 1\n",
        "- 테스트 데이터셋 기간:  23년 3월 6일 ~ 3월 19일\n",
        "- 훈련 데이터셋 기간: 20년 1월 1일 ~ 23년 3월 13일"
      ],
      "metadata": {
        "id": "QWK8FSQV1K0C"
      }
    },
    {
      "cell_type": "code",
      "execution_count": null,
      "metadata": {
        "id": "JL2uPxxUaUnt"
      },
      "outputs": [],
      "source": [
        "###################################### 학습용 커스텀 데이터 셋 #######################################################\n",
        "class CustomDataset(torch.utils.data.Dataset):\n",
        "  def __init__(self, target_df, binary_var_start_number, scaler_for_X, scaler_for_Y, seq_len, step_len, stride):\n",
        "    # 훈련 데이터셋에서 스케일러 학습\n",
        "    self.dataset_tensor =torch.FloatTensor(np.array(pd.concat([pd.DataFrame(scaler_for_X.fit_transform(target_df.iloc[:,1:binary_var_start_number]))  # 특성 데이터 스케일러 적용\n",
        "                                                               target_df.iloc[:,binary_var_start_number:-1],                                          # 더미변수 스케일러 미적용\n",
        "                                                               pd.DataFrame(scaler_for_Y.fit_transform(np.array(target_df['power']).reshape(-1, 1)))], axis = 1))).cuda() # 라벨 데이터 스케일러 적용          \n",
        "    self.data_size = (self.dataset_tensor.shape[0] - step_len - seq_len) // stride + 1\n",
        "    self.seq_len = seq_len\n",
        "    self.step_len = step_len\n",
        "    self.stride = stride\n",
        "  \n",
        "  def __len__(self):  # 데이터 크기\n",
        "    return self.data_size\n",
        "  \n",
        "  def __getitem__(self, idx): # 반환할 데이터\n",
        "    return self.dataset_tensor[idx*self.stride :idx*self.stride + self.seq_len, :], self.dataset_tensor[idx*self.stride + self.seq_len : idx*self.stride + self.seq_len + self.step_len, -1]\n",
        "    \n",
        "###################################### 평가용 커스텀 데이터 셋 정의 #######################################################\n",
        "class CustomDatasetForTest(torch.utils.data.Dataset):\n",
        "  def __init__(self, target_df, binary_var_start_number, scaler_for_X, scaler_for_Y, seq_len, step_len, stride):\n",
        "    # 평가 데이터셋에서 스케일러 단순 변환\n",
        "    self.dataset_tensor =torch.FloatTensor(np.array(pd.concat([pd.DataFrame(scaler_for_X.transform(target_df.iloc[:,1:binary_var_start_number])),\n",
        "                                                               target_df.iloc[:,binary_var_start_number:-1].reset_index(drop = True),\n",
        "                                                               pd.DataFrame(scaler_for_Y.transform(np.array(target_df['power']).reshape(-1, 1)))], axis = 1))).cuda()                           \n",
        "    self.data_size = (self.dataset_tensor.shape[0] - step_len - seq_len) // stride + 1\n",
        "    self.seq_len = seq_len\n",
        "    self.step_len = step_len\n",
        "    self.stride = stride\n",
        "  \n",
        "  def __len__(self):\n",
        "    return self.data_size\n",
        "  \n",
        "  def __getitem__(self, idx):\n",
        "    return self.dataset_tensor[idx*self.stride :idx*self.stride + self.seq_len, :], self.dataset_tensor[idx*self.stride + self.seq_len : idx*self.stride + self.seq_len + self.step_len, -1]\n",
        "\n",
        "# Scaler 객체 생성\n",
        "ss_1 = MinMaxScaler() # Scaler for X\n",
        "ss_2 = MinMaxScaler() # Scaler for y\n",
        "\n",
        "# CustomDataset 파라미터 설정 (Scaler 객체, 시퀀스의 길이, 스텝 사이즈, 건너뛸 간격)\n",
        "seq_len = 2016  # 시퀀스의 길이\n",
        "step_len = 72   # 스텝 사이즈 (추정하고자 하는 값의 개수)\n",
        "stride = 1      # 건너뛸 간격\n",
        "\n",
        "# target_df를 train_df와 test_df로 분리\n",
        "test_df = target_df.iloc[-1 * (seq_len + seq_len):,:]\n",
        "train_df = target_df.iloc[:-1 * (seq_len),:]\n",
        "\n",
        "# 데이터셋 생성\n",
        "train_dataset = CustomDataset(train_df, 4, ss_1, ss_2, seq_len, step_len, stride)\n",
        "test_dataset = CustomDatasetForTest(test_df, 4, ss_1, ss_2, seq_len, step_len, 72)\n",
        "\n",
        "# 데이터 로더 생성\n",
        "train_dataloader = DataLoader(train_dataset, batch_size = 256, shuffle = False, drop_last = True)\n",
        "test_dataloader = DataLoader(test_dataset, batch_size = 1, shuffle = False, drop_last = True)"
      ]
    },
    {
      "cell_type": "markdown",
      "source": [
        "### C-2. **CNN+Bi-LSTM 구성**\n",
        "* 합성곱 커널 사이즈 : 3, 5, 7\n",
        "* 합성곱 필터의 개수 : 118\n",
        "* Hidden State의 개수 : 288개\n",
        "* Sequence의 길이 : 2016개 (1일당 5분 간격 데이터 288개 * 일주일)"
      ],
      "metadata": {
        "id": "U_oO-zlV1UH5"
      }
    },
    {
      "cell_type": "code",
      "source": [
        "# CNN + 양방향 LSTM 모델 구성하기\n",
        "###################################### 모델 인자 #######################################################\n",
        "in_channels = train_df.shape[1] - 1 # 입력 컬럼의 개수\n",
        "out_channels = in_channels * 2 # 합성곱 필터로 생성될 out의 Dimension = 필터의 개수\n",
        "hidden_dim = 288 # 은닉 상태의 개수\n",
        "output_dim = 72 # 출력 값의 개수(형태)\n",
        "learning_rate = 0.0001 # 학습률\n",
        "nb_epochs = 30 # 에포크의 수\n",
        "seq_length = 2016 # sequence의 길이 (얼마간의 데이터가 들어오는가)\n",
        "\n",
        "###################################### 모델 구성 #######################################################\n",
        "class CNN_BILSTM(nn.Module):\n",
        "  def __init__(self, in_channels, out_channels, kernel_size, hidden_dim, seq_len, output_dim, layers):\n",
        "    super(CNN_BILSTM, self).__init__()\n",
        "    # 입력인자 정의\n",
        "    self.in_channels = in_channels\n",
        "    self.out_channels = out_channels\n",
        "    self.kernel_size = kernel_size\n",
        "    self.hidden_dim = hidden_dim\n",
        "    self.seq_len = seq_len\n",
        "    self.output_dim = output_dim\n",
        "    self.layers = layers\n",
        "    # 합성곱 Layer 정의\n",
        "    self.conv1d = nn.Conv1d(in_channels = self.in_channels, \n",
        "                            out_channels = self.out_channels,\n",
        "                            kernel_size = self.kernel_size, \n",
        "                            padding = 'same')\n",
        "    # LSTM Layer 정의\n",
        "    self.lstm = nn.LSTM(self.out_channels, \n",
        "                        self.hidden_dim, \n",
        "                        num_layers = self.layers, \n",
        "                        batch_first = True, \n",
        "                        bidirectional = True)\n",
        "    # 완전연결층 정의\n",
        "    self.fc = nn.Linear(hidden_dim * 2, output_dim, bias = True)\n",
        "\n",
        "  def reset_hidden_state(self):\n",
        "    self.hidden = (\n",
        "        torch.zeros(self.layers, self.seq_len, self.hidden_dim),\n",
        "        torch.zeros(self.layers, self.seq_len, self.hidden_dim)\n",
        "        )\n",
        "  \n",
        "  # 결과값 계산\n",
        "  def forward(self, x):\n",
        "    x = torch.transpose(x, 1, 2)\n",
        "    x = self.conv1d(x)\n",
        "    x = torch.transpose(x, 1, 2)\n",
        "    x, _status = self.lstm(x)\n",
        "    x = self.fc(x[:, -1])\n",
        "    return x"
      ],
      "metadata": {
        "id": "x988sKt9zb8e"
      },
      "execution_count": null,
      "outputs": []
    },
    {
      "cell_type": "markdown",
      "source": [
        "### C-3. **모델 학습**\n",
        "- loss : MAPE\n",
        "- optimizer = Adam\n",
        "- Kernel_size= 3, 5, 7"
      ],
      "metadata": {
        "id": "yTUivihH1WFy"
      }
    },
    {
      "cell_type": "code",
      "execution_count": null,
      "metadata": {
        "id": "rZeABdQyQCbq"
      },
      "outputs": [],
      "source": [
        "# 모델 학습 함수 만들기\n",
        "\n",
        "device = torch.device('cuda:0' if torch.cuda.is_available() else 'cpu')\n",
        "from torchmetrics import MeanAbsolutePercentageError\n",
        "from tqdm import tqdm\n",
        "\n",
        "###################################### 모델 학습 구성 #######################################################\n",
        "def train_model(model, train_df, num_epochs = None, lr = None, verbose = 10, patience = 10):\n",
        "  optimizer = torch.optim.Adam(model.parameters(), lr = learning_rate)\n",
        "  nb_epochs = num_epochs\n",
        "  mean_abs_percentage_error = MeanAbsolutePercentageError().to(device)\n",
        "\n",
        "  # epoch마다 loss 저장\n",
        "  train_hist = np.zeros(nb_epochs)\n",
        "  output = []\n",
        "  \n",
        "  for epoch in range(nb_epochs):\n",
        "    avg_cost = 0\n",
        "    total_batch = len(train_df)\n",
        "    for samples in tqdm(train_df):\n",
        "      x_train, y_train = samples\n",
        "\n",
        "      # seq별 hidden state reset\n",
        "      model.reset_hidden_state()\n",
        "\n",
        "      # H(x) 계산\n",
        "      outputs = model(x_train)\n",
        "\n",
        "      # cost 계산\n",
        "      loss = mean_abs_percentage_error(outputs, y_train)\n",
        "\n",
        "      # cost로 H(x) 개선\n",
        "      optimizer.zero_grad()\n",
        "      loss.backward()\n",
        "      optimizer.step()\n",
        "\n",
        "      avg_cost += loss/total_batch \n",
        "\n",
        "    train_hist[epoch] = avg_cost  # epoch마다 loss 대입\n",
        "\n",
        "    if epoch % verbose == 0:\n",
        "      print('Epoch:', '%04d' % (epoch), 'train loss :', '{:.4f}'.format(avg_cost))\n",
        "    # patience번째 마다 early stopping 여부 확인\n",
        "    if (epoch % patience == 0) & (epoch != 0):\n",
        "      if train_hist[epoch-patience] < train_hist[epoch]:\n",
        "        print('\\n Early Stopping')\n",
        "        break\n",
        "  \n",
        "  return model.eval(), train_hist"
      ]
    },
    {
      "cell_type": "code",
      "source": [
        "# 모델 저장 날짜\n",
        "import datetime\n",
        "now = datetime.datetime.today()\n",
        "today = str(now.year) + str(now.month) + str(now.day)\n",
        "today"
      ],
      "metadata": {
        "id": "QaOabeUTQdDS",
        "colab": {
          "base_uri": "https://localhost:8080/",
          "height": 35
        },
        "outputId": "5b21cd87-f06b-4063-e306-ec1b012abb21"
      },
      "execution_count": null,
      "outputs": [
        {
          "output_type": "execute_result",
          "data": {
            "text/plain": [
              "'2023531'"
            ],
            "application/vnd.google.colaboratory.intrinsic+json": {
              "type": "string"
            }
          },
          "metadata": {},
          "execution_count": 13
        }
      ]
    },
    {
      "cell_type": "markdown",
      "source": [
        "#### C-3-a. **Kernel_size=3**"
      ],
      "metadata": {
        "id": "VNE_99Bk1aDL"
      }
    },
    {
      "cell_type": "code",
      "source": [
        "# CNN + 양방향 LSTM 모델 학습 (Bidirectional LSTM layer=2)\n",
        "\n",
        "# kernel_size = 3 모델\n",
        "kernel_size = 3 # 합성곱 필터의 kernel_size\n",
        "\n",
        "cnn_bilstm = CNN_BILSTM(in_channels, out_channels, kernel_size, hidden_dim, seq_len, output_dim, layers = 2).to(device)\n",
        "cnn_bilstm_model_kernel_3, cnn_bilstm_hist_3 = train_model(cnn_bilstm, train_dataloader, num_epochs = nb_epochs,\n",
        "                                                         lr = learning_rate, verbose = 1, patience = 4)\n",
        "# 모델 저장\n",
        "kernel3_save_path = f'/content/drive/MyDrive/Model_pth/model_{today}_CNN-BILSTM_kernel3.pth'\n",
        "torch.save(cnn_bilstm_model_kernel_3, kernel3_save_path)"
      ],
      "metadata": {
        "id": "j_ad3nxfpoC_",
        "colab": {
          "base_uri": "https://localhost:8080/"
        },
        "outputId": "8c111592-fa71-4bf7-ec73-a3e12854fe57"
      },
      "execution_count": null,
      "outputs": [
        {
          "output_type": "stream",
          "name": "stderr",
          "text": [
            "100%|██████████| 1304/1304 [05:49<00:00,  3.73it/s]\n"
          ]
        },
        {
          "output_type": "stream",
          "name": "stdout",
          "text": [
            "Epoch: 0000 train loss : 1.1640\n"
          ]
        },
        {
          "output_type": "stream",
          "name": "stderr",
          "text": [
            "100%|██████████| 1304/1304 [05:48<00:00,  3.74it/s]\n"
          ]
        },
        {
          "output_type": "stream",
          "name": "stdout",
          "text": [
            "Epoch: 0001 train loss : 1.0267\n"
          ]
        },
        {
          "output_type": "stream",
          "name": "stderr",
          "text": [
            "100%|██████████| 1304/1304 [05:49<00:00,  3.73it/s]\n"
          ]
        },
        {
          "output_type": "stream",
          "name": "stdout",
          "text": [
            "Epoch: 0002 train loss : 1.0153\n"
          ]
        },
        {
          "output_type": "stream",
          "name": "stderr",
          "text": [
            "100%|██████████| 1304/1304 [05:48<00:00,  3.74it/s]\n"
          ]
        },
        {
          "output_type": "stream",
          "name": "stdout",
          "text": [
            "Epoch: 0003 train loss : 0.8789\n"
          ]
        },
        {
          "output_type": "stream",
          "name": "stderr",
          "text": [
            "100%|██████████| 1304/1304 [05:49<00:00,  3.73it/s]\n"
          ]
        },
        {
          "output_type": "stream",
          "name": "stdout",
          "text": [
            "Epoch: 0004 train loss : 0.3977\n"
          ]
        },
        {
          "output_type": "stream",
          "name": "stderr",
          "text": [
            "100%|██████████| 1304/1304 [05:49<00:00,  3.73it/s]\n"
          ]
        },
        {
          "output_type": "stream",
          "name": "stdout",
          "text": [
            "Epoch: 0005 train loss : 0.8322\n"
          ]
        },
        {
          "output_type": "stream",
          "name": "stderr",
          "text": [
            "100%|██████████| 1304/1304 [05:48<00:00,  3.74it/s]\n"
          ]
        },
        {
          "output_type": "stream",
          "name": "stdout",
          "text": [
            "Epoch: 0006 train loss : 0.2982\n"
          ]
        },
        {
          "output_type": "stream",
          "name": "stderr",
          "text": [
            "100%|██████████| 1304/1304 [05:49<00:00,  3.73it/s]\n"
          ]
        },
        {
          "output_type": "stream",
          "name": "stdout",
          "text": [
            "Epoch: 0007 train loss : 0.7032\n"
          ]
        },
        {
          "output_type": "stream",
          "name": "stderr",
          "text": [
            "100%|██████████| 1304/1304 [05:49<00:00,  3.73it/s]"
          ]
        },
        {
          "output_type": "stream",
          "name": "stdout",
          "text": [
            "Epoch: 0008 train loss : 0.4104\n",
            "\n",
            " Early Stopping\n"
          ]
        },
        {
          "output_type": "stream",
          "name": "stderr",
          "text": [
            "\n"
          ]
        }
      ]
    },
    {
      "cell_type": "markdown",
      "source": [
        "#### C-3-a. **Kernel_size=5**"
      ],
      "metadata": {
        "id": "Sh5oEbuM1cyK"
      }
    },
    {
      "cell_type": "code",
      "source": [
        "# kernel_size = 5 모델\n",
        "kernel_size = 5 # 합성곱 필터의 kernel_size\n",
        "\n",
        "cnn_bilstm = CNN_BILSTM(in_channels, out_channels, kernel_size, hidden_dim, seq_len, output_dim, layers = 2).to(device)\n",
        "cnn_bilstm_model_kernel_5, cnn_bilstm_hist_5 = train_model(cnn_bilstm, train_dataloader, num_epochs = nb_epochs,\n",
        "                                                         lr = learning_rate, verbose = 1, patience = 4)\n",
        "# 모델 저장\n",
        "kernel5_save_path = f'/content/drive/MyDrive/Model_pth/model_{today}_CNN-BILSTM_kernel5.pth'\n",
        "torch.save(cnn_bilstm_model_kernel_5, kernel5_save_path)"
      ],
      "metadata": {
        "id": "DlfGENCnaLbq",
        "colab": {
          "base_uri": "https://localhost:8080/"
        },
        "outputId": "8d62b83c-ef9c-4e74-e464-22a6fd5c5c5a"
      },
      "execution_count": null,
      "outputs": [
        {
          "output_type": "stream",
          "name": "stderr",
          "text": [
            "100%|██████████| 1304/1304 [05:48<00:00,  3.74it/s]\n"
          ]
        },
        {
          "output_type": "stream",
          "name": "stdout",
          "text": [
            "Epoch: 0000 train loss : 1.1247\n"
          ]
        },
        {
          "output_type": "stream",
          "name": "stderr",
          "text": [
            "100%|██████████| 1304/1304 [05:48<00:00,  3.74it/s]\n"
          ]
        },
        {
          "output_type": "stream",
          "name": "stdout",
          "text": [
            "Epoch: 0001 train loss : 0.9768\n"
          ]
        },
        {
          "output_type": "stream",
          "name": "stderr",
          "text": [
            "100%|██████████| 1304/1304 [05:49<00:00,  3.73it/s]\n"
          ]
        },
        {
          "output_type": "stream",
          "name": "stdout",
          "text": [
            "Epoch: 0002 train loss : 0.4069\n"
          ]
        },
        {
          "output_type": "stream",
          "name": "stderr",
          "text": [
            "100%|██████████| 1304/1304 [05:48<00:00,  3.74it/s]\n"
          ]
        },
        {
          "output_type": "stream",
          "name": "stdout",
          "text": [
            "Epoch: 0003 train loss : 0.7012\n"
          ]
        },
        {
          "output_type": "stream",
          "name": "stderr",
          "text": [
            "100%|██████████| 1304/1304 [05:49<00:00,  3.74it/s]\n"
          ]
        },
        {
          "output_type": "stream",
          "name": "stdout",
          "text": [
            "Epoch: 0004 train loss : 0.3077\n"
          ]
        },
        {
          "output_type": "stream",
          "name": "stderr",
          "text": [
            "100%|██████████| 1304/1304 [05:49<00:00,  3.73it/s]\n"
          ]
        },
        {
          "output_type": "stream",
          "name": "stdout",
          "text": [
            "Epoch: 0005 train loss : 0.4209\n"
          ]
        },
        {
          "output_type": "stream",
          "name": "stderr",
          "text": [
            "100%|██████████| 1304/1304 [05:49<00:00,  3.73it/s]\n"
          ]
        },
        {
          "output_type": "stream",
          "name": "stdout",
          "text": [
            "Epoch: 0006 train loss : 0.2847\n"
          ]
        },
        {
          "output_type": "stream",
          "name": "stderr",
          "text": [
            "100%|██████████| 1304/1304 [05:49<00:00,  3.73it/s]\n"
          ]
        },
        {
          "output_type": "stream",
          "name": "stdout",
          "text": [
            "Epoch: 0007 train loss : 0.2483\n"
          ]
        },
        {
          "output_type": "stream",
          "name": "stderr",
          "text": [
            "100%|██████████| 1304/1304 [05:49<00:00,  3.73it/s]\n"
          ]
        },
        {
          "output_type": "stream",
          "name": "stdout",
          "text": [
            "Epoch: 0008 train loss : 0.2014\n"
          ]
        },
        {
          "output_type": "stream",
          "name": "stderr",
          "text": [
            "100%|██████████| 1304/1304 [05:49<00:00,  3.73it/s]\n"
          ]
        },
        {
          "output_type": "stream",
          "name": "stdout",
          "text": [
            "Epoch: 0009 train loss : 0.1981\n"
          ]
        },
        {
          "output_type": "stream",
          "name": "stderr",
          "text": [
            "100%|██████████| 1304/1304 [05:49<00:00,  3.73it/s]\n"
          ]
        },
        {
          "output_type": "stream",
          "name": "stdout",
          "text": [
            "Epoch: 0010 train loss : 0.5548\n"
          ]
        },
        {
          "output_type": "stream",
          "name": "stderr",
          "text": [
            "100%|██████████| 1304/1304 [05:49<00:00,  3.73it/s]\n"
          ]
        },
        {
          "output_type": "stream",
          "name": "stdout",
          "text": [
            "Epoch: 0011 train loss : 0.1609\n"
          ]
        },
        {
          "output_type": "stream",
          "name": "stderr",
          "text": [
            "100%|██████████| 1304/1304 [05:49<00:00,  3.73it/s]\n"
          ]
        },
        {
          "output_type": "stream",
          "name": "stdout",
          "text": [
            "Epoch: 0012 train loss : 0.1902\n"
          ]
        },
        {
          "output_type": "stream",
          "name": "stderr",
          "text": [
            "100%|██████████| 1304/1304 [05:49<00:00,  3.73it/s]\n"
          ]
        },
        {
          "output_type": "stream",
          "name": "stdout",
          "text": [
            "Epoch: 0013 train loss : 0.1463\n"
          ]
        },
        {
          "output_type": "stream",
          "name": "stderr",
          "text": [
            "100%|██████████| 1304/1304 [05:49<00:00,  3.73it/s]\n"
          ]
        },
        {
          "output_type": "stream",
          "name": "stdout",
          "text": [
            "Epoch: 0014 train loss : 0.1496\n"
          ]
        },
        {
          "output_type": "stream",
          "name": "stderr",
          "text": [
            "100%|██████████| 1304/1304 [05:49<00:00,  3.73it/s]\n"
          ]
        },
        {
          "output_type": "stream",
          "name": "stdout",
          "text": [
            "Epoch: 0015 train loss : 0.1658\n"
          ]
        },
        {
          "output_type": "stream",
          "name": "stderr",
          "text": [
            "100%|██████████| 1304/1304 [05:49<00:00,  3.73it/s]\n"
          ]
        },
        {
          "output_type": "stream",
          "name": "stdout",
          "text": [
            "Epoch: 0016 train loss : 0.1712\n"
          ]
        },
        {
          "output_type": "stream",
          "name": "stderr",
          "text": [
            "100%|██████████| 1304/1304 [05:49<00:00,  3.73it/s]\n"
          ]
        },
        {
          "output_type": "stream",
          "name": "stdout",
          "text": [
            "Epoch: 0017 train loss : 0.2027\n"
          ]
        },
        {
          "output_type": "stream",
          "name": "stderr",
          "text": [
            "100%|██████████| 1304/1304 [05:49<00:00,  3.73it/s]\n"
          ]
        },
        {
          "output_type": "stream",
          "name": "stdout",
          "text": [
            "Epoch: 0018 train loss : 0.1442\n"
          ]
        },
        {
          "output_type": "stream",
          "name": "stderr",
          "text": [
            "100%|██████████| 1304/1304 [05:49<00:00,  3.73it/s]\n"
          ]
        },
        {
          "output_type": "stream",
          "name": "stdout",
          "text": [
            "Epoch: 0019 train loss : 0.1601\n"
          ]
        },
        {
          "output_type": "stream",
          "name": "stderr",
          "text": [
            "100%|██████████| 1304/1304 [05:49<00:00,  3.73it/s]\n"
          ]
        },
        {
          "output_type": "stream",
          "name": "stdout",
          "text": [
            "Epoch: 0020 train loss : 0.1281\n"
          ]
        },
        {
          "output_type": "stream",
          "name": "stderr",
          "text": [
            "100%|██████████| 1304/1304 [05:49<00:00,  3.73it/s]\n"
          ]
        },
        {
          "output_type": "stream",
          "name": "stdout",
          "text": [
            "Epoch: 0021 train loss : 0.1354\n"
          ]
        },
        {
          "output_type": "stream",
          "name": "stderr",
          "text": [
            "100%|██████████| 1304/1304 [05:49<00:00,  3.73it/s]\n"
          ]
        },
        {
          "output_type": "stream",
          "name": "stdout",
          "text": [
            "Epoch: 0022 train loss : 0.1225\n"
          ]
        },
        {
          "output_type": "stream",
          "name": "stderr",
          "text": [
            "100%|██████████| 1304/1304 [05:49<00:00,  3.73it/s]\n"
          ]
        },
        {
          "output_type": "stream",
          "name": "stdout",
          "text": [
            "Epoch: 0023 train loss : 0.1311\n"
          ]
        },
        {
          "output_type": "stream",
          "name": "stderr",
          "text": [
            "100%|██████████| 1304/1304 [05:49<00:00,  3.73it/s]\n"
          ]
        },
        {
          "output_type": "stream",
          "name": "stdout",
          "text": [
            "Epoch: 0024 train loss : 0.1208\n"
          ]
        },
        {
          "output_type": "stream",
          "name": "stderr",
          "text": [
            "100%|██████████| 1304/1304 [05:49<00:00,  3.73it/s]\n"
          ]
        },
        {
          "output_type": "stream",
          "name": "stdout",
          "text": [
            "Epoch: 0025 train loss : 0.2458\n"
          ]
        },
        {
          "output_type": "stream",
          "name": "stderr",
          "text": [
            "100%|██████████| 1304/1304 [05:49<00:00,  3.73it/s]\n"
          ]
        },
        {
          "output_type": "stream",
          "name": "stdout",
          "text": [
            "Epoch: 0026 train loss : 0.1250\n"
          ]
        },
        {
          "output_type": "stream",
          "name": "stderr",
          "text": [
            "100%|██████████| 1304/1304 [05:49<00:00,  3.73it/s]\n"
          ]
        },
        {
          "output_type": "stream",
          "name": "stdout",
          "text": [
            "Epoch: 0027 train loss : 0.1288\n"
          ]
        },
        {
          "output_type": "stream",
          "name": "stderr",
          "text": [
            "100%|██████████| 1304/1304 [05:49<00:00,  3.73it/s]\n"
          ]
        },
        {
          "output_type": "stream",
          "name": "stdout",
          "text": [
            "Epoch: 0028 train loss : 0.1035\n"
          ]
        },
        {
          "output_type": "stream",
          "name": "stderr",
          "text": [
            "100%|██████████| 1304/1304 [05:49<00:00,  3.73it/s]"
          ]
        },
        {
          "output_type": "stream",
          "name": "stdout",
          "text": [
            "Epoch: 0029 train loss : 0.1068\n"
          ]
        },
        {
          "output_type": "stream",
          "name": "stderr",
          "text": [
            "\n"
          ]
        }
      ]
    },
    {
      "cell_type": "markdown",
      "source": [
        "#### C-3-a. **Kernel_size=7**"
      ],
      "metadata": {
        "id": "dCQFuCq01ja1"
      }
    },
    {
      "cell_type": "code",
      "source": [
        "# kernel_size = 7 모델\n",
        "kernel_size = 7 # 합성곱 필터의 kernel_size\n",
        "\n",
        "cnn_bilstm = CNN_BILSTM(in_channels, out_channels, kernel_size, hidden_dim, seq_len, output_dim, layers = 2).to(device)\n",
        "cnn_bilstm_model_kernel_7, cnn_bilstm_hist_7 = train_model(cnn_bilstm, train_dataloader, num_epochs = nb_epochs,\n",
        "                                                         lr = learning_rate, verbose = 1, patience = 4)\n",
        "# 모델 저장\n",
        "kernel7_save_path = f'/content/drive/MyDrive/Model_pth/model_{today}_CNN-BILSTM_kernel7.pth'\n",
        "torch.save(cnn_bilstm_model_kernel_7, kernel7_save_path)"
      ],
      "metadata": {
        "id": "oVvH8U7C3C9P",
        "colab": {
          "base_uri": "https://localhost:8080/"
        },
        "outputId": "1da61923-4b27-4bd4-c8ab-c50ab53dae39"
      },
      "execution_count": null,
      "outputs": [
        {
          "output_type": "stream",
          "name": "stderr",
          "text": [
            "100%|██████████| 1304/1304 [05:49<00:00,  3.73it/s]\n"
          ]
        },
        {
          "output_type": "stream",
          "name": "stdout",
          "text": [
            "Epoch: 0000 train loss : 1.0631\n"
          ]
        },
        {
          "output_type": "stream",
          "name": "stderr",
          "text": [
            "100%|██████████| 1304/1304 [05:50<00:00,  3.73it/s]\n"
          ]
        },
        {
          "output_type": "stream",
          "name": "stdout",
          "text": [
            "Epoch: 0001 train loss : 0.9263\n"
          ]
        },
        {
          "output_type": "stream",
          "name": "stderr",
          "text": [
            "100%|██████████| 1304/1304 [05:50<00:00,  3.72it/s]\n"
          ]
        },
        {
          "output_type": "stream",
          "name": "stdout",
          "text": [
            "Epoch: 0002 train loss : 0.2976\n"
          ]
        },
        {
          "output_type": "stream",
          "name": "stderr",
          "text": [
            "100%|██████████| 1304/1304 [05:50<00:00,  3.72it/s]\n"
          ]
        },
        {
          "output_type": "stream",
          "name": "stdout",
          "text": [
            "Epoch: 0003 train loss : 0.4518\n"
          ]
        },
        {
          "output_type": "stream",
          "name": "stderr",
          "text": [
            "100%|██████████| 1304/1304 [05:50<00:00,  3.72it/s]\n"
          ]
        },
        {
          "output_type": "stream",
          "name": "stdout",
          "text": [
            "Epoch: 0004 train loss : 0.2447\n"
          ]
        },
        {
          "output_type": "stream",
          "name": "stderr",
          "text": [
            "100%|██████████| 1304/1304 [05:50<00:00,  3.72it/s]\n"
          ]
        },
        {
          "output_type": "stream",
          "name": "stdout",
          "text": [
            "Epoch: 0005 train loss : 0.9635\n"
          ]
        },
        {
          "output_type": "stream",
          "name": "stderr",
          "text": [
            "100%|██████████| 1304/1304 [05:50<00:00,  3.72it/s]\n"
          ]
        },
        {
          "output_type": "stream",
          "name": "stdout",
          "text": [
            "Epoch: 0006 train loss : 0.2238\n"
          ]
        },
        {
          "output_type": "stream",
          "name": "stderr",
          "text": [
            "100%|██████████| 1304/1304 [05:50<00:00,  3.72it/s]\n"
          ]
        },
        {
          "output_type": "stream",
          "name": "stdout",
          "text": [
            "Epoch: 0007 train loss : 0.4286\n"
          ]
        },
        {
          "output_type": "stream",
          "name": "stderr",
          "text": [
            "100%|██████████| 1304/1304 [05:50<00:00,  3.72it/s]"
          ]
        },
        {
          "output_type": "stream",
          "name": "stdout",
          "text": [
            "Epoch: 0008 train loss : 0.2837\n",
            "\n",
            " Early Stopping\n"
          ]
        },
        {
          "output_type": "stream",
          "name": "stderr",
          "text": [
            "\n"
          ]
        }
      ]
    },
    {
      "cell_type": "markdown",
      "source": [
        "### C-4. **모델별 학습 과정**\n",
        "- Kernel_size=3,7은 Epoch=7,8에서 Early Stopping 됨\n",
        "- Kernel_size=5는 최대횟수 Epoch 30회로 정지됨\n",
        "- Kernel_size=5는 성능이 더 좋아질 가능성이 있음"
      ],
      "metadata": {
        "id": "pDAf7lIN1mVZ"
      }
    },
    {
      "cell_type": "code",
      "source": [
        "plt.figure(figsize=(8,4))\n",
        "sns.lineplot(cnn_bilstm_hist_3, label='Kernel=3')\n",
        "sns.lineplot(cnn_bilstm_hist_5, label='Kernel=5')\n",
        "sns.lineplot(cnn_bilstm_hist_7, label='Kernel=7')\n",
        "plt.title('CNN+Bi-LSTM_Hist')\n",
        "plt.xlabel('epoch')\n",
        "plt.ylabel(\"loss\")\n",
        "plt.legend()\n",
        "plt.show()"
      ],
      "metadata": {
        "colab": {
          "base_uri": "https://localhost:8080/",
          "height": 410
        },
        "id": "3QsVteXSFNpL",
        "outputId": "6f3b1c05-b43c-41da-c80c-32012c86268a"
      },
      "execution_count": null,
      "outputs": [
        {
          "output_type": "display_data",
          "data": {
            "text/plain": [
              "<Figure size 800x400 with 1 Axes>"
            ],
            "image/png": "[encoded data removed]"
          },
          "metadata": {}
        }
      ]
    },
    {
      "cell_type": "markdown",
      "source": [
        "### C-5. **모델 평가**\n",
        "- Kernel_size = 3의 MAPE: 3.764%\n",
        "- Kernel_size = 5의 MAPE: 2.873%\n",
        "- Kernel_size = 7의 MAPE: 3.611%\n",
        "- **Kernel_size=5가 다른 모델보다 변곡점 부근에서 뛰어난 예측을 보임**"
      ],
      "metadata": {
        "id": "_yBoCL1U1oqi"
      }
    },
    {
      "cell_type": "code",
      "source": [
        "###################################### 모델 불러오기 #######################################################\n",
        "# 모델 불러오기\n",
        "kernel3_save_path = f'/content/drive/MyDrive/Model_pth/model_2023531_CNN-BILSTM_kernel3.pth'\n",
        "kernel5_save_path = f'/content/drive/MyDrive/Model_pth/model_2023531_CNN-BILSTM_kernel5.pth'\n",
        "kernel7_save_path = f'/content/drive/MyDrive/Model_pth/model_2023531_CNN-BILSTM_kernel7.pth'\n",
        "cnn_bilstm_model_kernel_3 = torch.load(kernel3_save_path)\n",
        "cnn_bilstm_model_kernel_3.eval()\n",
        "cnn_bilstm_model_kernel_5 = torch.load(kernel5_save_path)\n",
        "cnn_bilstm_model_kernel_5.eval()\n",
        "cnn_bilstm_model_kernel_7 = torch.load(kernel7_save_path)\n",
        "cnn_bilstm_model_kernel_7.eval()\n",
        "\n",
        "###################################### 모델 평가하기 #######################################################\n",
        "with torch.no_grad():\n",
        "\n",
        "  # 예측값과 실제값을 담을 빈 리스트 준비하기\n",
        "\n",
        "  cnnbi_pred_list_kernel_3 = []\n",
        "  cnnbi_pred_list_kernel_5 = []\n",
        "  cnnbi_pred_list_kernel_7 = []\n",
        "  cnnbi_true_list = []\n",
        "\n",
        "  for X, y in test_dataloader:\n",
        "\n",
        "    # 데이터 로더에서 테스트 데이터 꺼내기\n",
        "    X = X.to(device)\n",
        "    y = y.to(device)\n",
        "\n",
        "    # 모델별 예측값 계산\n",
        "    pred_kernel_3 = cnn_bilstm_model_kernel_3(X)\n",
        "    pred_kernel_5 = cnn_bilstm_model_kernel_5(X)\n",
        "    pred_kernel_7 = cnn_bilstm_model_kernel_7(X)\n",
        "\n",
        "    # 모델별 예측값 및 실제값을 리스트에 넣어주기\n",
        "    cnnbi_pred_list_kernel_3.append(ss_2.inverse_transform(pred_kernel_3.cpu().detach().numpy()))\n",
        "    cnnbi_pred_list_kernel_5.append(ss_2.inverse_transform(pred_kernel_5.cpu().detach().numpy()))\n",
        "    cnnbi_pred_list_kernel_7.append(ss_2.inverse_transform(pred_kernel_7.cpu().detach().numpy()))\n",
        "    cnnbi_true_list.append(ss_2.inverse_transform(y.cpu().detach().numpy()))\n",
        "\n",
        "# 위에서 완성된 예측값, 실제값 리스트로 평균 MAPE 계산하기\n",
        "cnnbi_MAPE_list_kernel_3 = [np.mean(np.abs(pred - true)/true) for pred, true in zip(cnnbi_pred_list_kernel_3, cnnbi_true_list)]\n",
        "cnnbi_MAPE_list_kernel_5 = [np.mean(np.abs(pred - true)/true) for pred, true in zip(cnnbi_pred_list_kernel_5, cnnbi_true_list)]\n",
        "cnnbi_MAPE_list_kernel_7 = [np.mean(np.abs(pred - true)/true) for pred, true in zip(cnnbi_pred_list_kernel_7, cnnbi_true_list)]\n",
        "\n",
        "# 모델별 평균 MAPE 출력하기\n",
        "print('커널 사이즈가 3인 CNN + Bi-LSTM 모델의 전체 평균 MAPE는 {}% 입니다'.format(round(sum(cnnbi_MAPE_list_kernel_3)/len(cnnbi_MAPE_list_kernel_3) * 100, 3)))\n",
        "print('커널 사이즈가 5인 CNN + Bi-LSTM 모델의 전체 평균 MAPE는 {}% 입니다'.format(round(sum(cnnbi_MAPE_list_kernel_5)/len(cnnbi_MAPE_list_kernel_5) * 100, 3)))\n",
        "print('커널 사이즈가 7인 CNN + Bi-LSTM 모델의 전체 평균 MAPE는 {}% 입니다'.format(round(sum(cnnbi_MAPE_list_kernel_7)/len(cnnbi_MAPE_list_kernel_7) * 100, 3)))"
      ],
      "metadata": {
        "id": "-K26j5aVTTjh",
        "colab": {
          "base_uri": "https://localhost:8080/"
        },
        "outputId": "d46c2c87-5487-4e19-d186-6de981f53b6c"
      },
      "execution_count": null,
      "outputs": [
        {
          "output_type": "stream",
          "name": "stdout",
          "text": [
            "커널 사이즈가 3인 CNN + Bi-LSTM 모델의 전체 평균 MAPE는 3.764% 입니다\n",
            "커널 사이즈가 5인 CNN + Bi-LSTM 모델의 전체 평균 MAPE는 2.873% 입니다\n",
            "커널 사이즈가 7인 CNN + Bi-LSTM 모델의 전체 평균 MAPE는 3.611% 입니다\n"
          ]
        }
      ]
    },
    {
      "cell_type": "code",
      "source": [
        "###################################### 예측값 비교하기 #######################################################\n",
        "# 데이터 평탄화 작업\n",
        "pred_flatten_3 = np.array(cnnbi_pred_list_kernel_3).flatten()\n",
        "pred_flatten_5 = np.array(cnnbi_pred_list_kernel_5).flatten()\n",
        "pred_flatten_7 = np.array(cnnbi_pred_list_kernel_7).flatten()\n",
        "true_flatten = np.array(test_df['power'].iloc[2016:]).flatten()\n",
        "\n",
        "# 데이터프레임화\n",
        "pred_test_df = pd.DataFrame({\n",
        "    \"time\" : test_df['datetime'].iloc[2016:], # 테스트 기간 설정\n",
        "    'pred_kernel_3' : pred_flatten_3,\n",
        "    'pred_kernel_5' : pred_flatten_5,\n",
        "    'pred_kernel_7' : pred_flatten_7,\n",
        "    'true' : true_flatten\n",
        "})\n",
        "pred_test_df['time'] = pred_test_df['time'].astype('datetime64[ms]')\n",
        "\n",
        "# MAPE 구하기\n",
        "mape_3 = round(sum(cnnbi_MAPE_list_kernel_3)/len(cnnbi_MAPE_list_kernel_3) * 100, 3)\n",
        "mape_5 = round(sum(cnnbi_MAPE_list_kernel_5)/len(cnnbi_MAPE_list_kernel_5) * 100, 3)\n",
        "mape_7 = round(sum(cnnbi_MAPE_list_kernel_7)/len(cnnbi_MAPE_list_kernel_7) * 100, 3)\n",
        "label_3 = f'CNN-BILSTM: Kernel_3, MAPE: {mape_3}%'\n",
        "label_5 = f'CNN-BILSTM: Kernel_5, MAPE: {mape_5}%'\n",
        "label_7 = f'CNN-BILSTM: Kernel_7, MAPE: {mape_7}%'\n",
        "\n",
        "# 시각화\n",
        "plt.figure(figsize=(10,4))\n",
        "sns.lineplot(data=pred_test_df, x='time', y='pred_kernel_3', label=label_3)\n",
        "sns.lineplot(data=pred_test_df, x='time', y='pred_kernel_5', label=label_5)\n",
        "sns.lineplot(data=pred_test_df, x='time', y='pred_kernel_7', label=label_7)\n",
        "sns.lineplot(data=pred_test_df, x='time', y='true', label='true')\n",
        "plt.title(f\"Predict_Power_Demand with Each Kernel\")\n",
        "plt.xlabel(\"time\")\n",
        "plt.ylabel(\"power(MW)\")\n",
        "plt.show()"
      ],
      "metadata": {
        "id": "WrKr0YgHgM3-",
        "colab": {
          "base_uri": "https://localhost:8080/",
          "height": 410
        },
        "outputId": "43ace53a-e2c1-405d-93ab-08a3c4d0cf4b"
      },
      "execution_count": null,
      "outputs": [
        {
          "output_type": "display_data",
          "data": {
            "text/plain": [
              "<Figure size 1000x400 with 1 Axes>"
            ],
            "image/png": "[encoded data removed]"
          },
          "metadata": {}
        }
      ]
    },
    {
      "cell_type": "markdown",
      "source": [
        "## D. **결론**\n",
        "- 해당 데이터셋에서 가장 적합한 Kernel_size는 `5` 입니다.\n",
        "- Kernel_size=5인 모델은 다른 모델과 다르게 Early stopping 하지 않고 최대 epoch 30회를 모두 수행했습니다.\n",
        "- 따라서 Kernel_size=5인 모델은 추가적인 성능 발전 가능성이 있습니다.\n",
        "  - Kernel_size=3인 Model은 Epoch=8에서 `Train_MAPE=41.04%`, `Test_MAPE=3.764%`입니다.\n",
        "  - Kernel_size=5인 Model은 Epoch=29에서 `Train_MAPE=10.68%`, `Test_MAPE=2.873%`입니다.\n",
        "  - Kernel_size=7인 Model은 Epoch=8에서 `Train_MAPE=28.37%`, `Test_MAPE=3.611%`입니다.\n",
        "  - Train_MAPE가 낮을수록 Test_MAPE도 낮았습니다.\n",
        "\n",
        "- 모든 모델은 일반적인 구간에서 좋은 성능을 보입니다만, 변곡점에서 안 좋은 성능을 보여줍니다\n",
        "- Kernel_size=5 모델은 변곡점에서 다른 모델에 비해 상대적으로 예측이 뛰어납니다.\n",
        "- 앞으로의 진행하는 모든 CNN모델에 Kernel_size=5을 적용하고, epoch를 50회로 설정합니다"
      ],
      "metadata": {
        "id": "Fw89knvZ3JCY"
      }
    }
  ],
  "metadata": {
    "colab": {
      "provenance": [],
      "machine_shape": "hm",
      "gpuType": "A100",
      "toc_visible": true
    },
    "kernelspec": {
      "display_name": "Python 3",
      "name": "python3"
    },
    "language_info": {
      "name": "python"
    },
    "accelerator": "GPU"
  },
  "nbformat": 4,
  "nbformat_minor": 0
}